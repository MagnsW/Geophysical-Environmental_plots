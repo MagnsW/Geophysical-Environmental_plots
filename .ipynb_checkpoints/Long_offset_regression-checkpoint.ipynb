{
 "cells": [
  {
   "cell_type": "code",
   "execution_count": 1,
   "metadata": {},
   "outputs": [],
   "source": [
    "import pandas as pd\n",
    "from matplotlib import pyplot as plt\n",
    "import seaborn as sns\n",
    "import numpy as np"
   ]
  },
  {
   "cell_type": "code",
   "execution_count": 4,
   "metadata": {},
   "outputs": [],
   "source": [
    "path = './input/curves_90deg/'\n",
    "filename1 = path + 'mb_90deg_600m_120km_40m.txt'"
   ]
  },
  {
   "cell_type": "code",
   "execution_count": 5,
   "metadata": {},
   "outputs": [
    {
     "name": "stdout",
     "output_type": "stream",
     "text": [
      "0 Az Dist Depth SEL\n",
      "1 90\t200\t40\t177.527\n",
      "2 90\t400\t40\t173.31\n",
      "3 90\t600\t40\t167.992\n",
      "4 90\t800\t40\t165.293\n",
      "5 90\t1000\t40\t162.347\n",
      "6 90\t1200\t40\t158.893\n",
      "7 90\t1400\t40\t155.971\n",
      "8 90\t1600\t40\t156.741\n",
      "9 90\t1800\t40\t157.854\n",
      "10 90\t2000\t40\t157.769\n",
      "11 90\t2200\t40\t159.906\n",
      "12 90\t2400\t40\t154.14\n",
      "13 90\t2600\t40\t159.868\n",
      "14 90\t2800\t40\t158.251\n",
      "15 90\t3000\t40\t158.745\n",
      "16 90\t3200\t40\t157.356\n",
      "17 90\t3400\t40\t157.015\n",
      "18 90\t3600\t40\t157.885\n",
      "19 90\t3800\t40\t159.51\n",
      "20 90\t4000\t40\t159.117\n",
      "21 90\t4200\t40\t155.739\n",
      "22 90\t4400\t40\t153.841\n",
      "23 90\t4600\t40\t155.138\n",
      "24 90\t4800\t40\t158.23\n",
      "25 90\t5000\t40\t157.516\n",
      "26 90\t5200\t40\t153.903\n",
      "27 90\t5400\t40\t157.374\n",
      "28 90\t5600\t40\t156.782\n",
      "29 90\t5800\t40\t156.135\n"
     ]
    }
   ],
   "source": [
    "f = open(filename1)\n",
    "lines = f.read().splitlines()\n",
    "f.close()\n",
    "for i, line in enumerate(lines):\n",
    "    if i < 30:\n",
    "        print(i, line)"
   ]
  },
  {
   "cell_type": "code",
   "execution_count": 6,
   "metadata": {},
   "outputs": [],
   "source": [
    "column_names = ['Azimuth', 'Range', 'Depth', 'SEL']"
   ]
  },
  {
   "cell_type": "code",
   "execution_count": 7,
   "metadata": {},
   "outputs": [],
   "source": [
    "shot1 = pd.DataFrame()"
   ]
  },
  {
   "cell_type": "code",
   "execution_count": 9,
   "metadata": {},
   "outputs": [],
   "source": [
    "shot1 = pd.read_csv(filename1, names=column_names, skiprows=1, delim_whitespace=True)"
   ]
  },
  {
   "cell_type": "code",
   "execution_count": null,
   "metadata": {},
   "outputs": [],
   "source": []
  }
 ],
 "metadata": {
  "kernelspec": {
   "display_name": "Python 3",
   "language": "python",
   "name": "python3"
  },
  "language_info": {
   "codemirror_mode": {
    "name": "ipython",
    "version": 3
   },
   "file_extension": ".py",
   "mimetype": "text/x-python",
   "name": "python",
   "nbconvert_exporter": "python",
   "pygments_lexer": "ipython3",
   "version": "3.6.5"
  }
 },
 "nbformat": 4,
 "nbformat_minor": 2
}
